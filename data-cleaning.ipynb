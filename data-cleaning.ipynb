{
 "cells": [
  {
   "cell_type": "markdown",
   "metadata": {},
   "source": [
    "### Notebook part 1\n",
    "# Data Cleaning\n",
    "_By **Avi Patel**_\n",
    "\n",
    "## Overview\n",
    "This project seeks to create a model that classifies Sentiment of a given movie review is Positive or Negative . This information will help Movie Production House to analyze reviews from viewers around various social networking platform.\n",
    "\n",
    "\n",
    "\n",
    "## Business Problem\n",
    "Movie Production House can get Average user rating of their movies from websites like IMDb, Google Reviews and Yelp. But to get the Overall Sentiment and Word Of Mouth from social networking sites can be quite painful as reviews are available in the form of text and not ratings (numbers). To solve this problem Machine Learning models that analyze the sentiment of a given text review can be helpful."
   ]
  },
  {
   "cell_type": "code",
   "execution_count": 1,
   "metadata": {},
   "outputs": [],
   "source": [
    "import pandas as pd\n",
    "import numpy as np\n",
    "from pandas import option_context\n",
    "import contractions\n",
    "import unicodedata\n",
    "import re\n",
    "\n",
    "from textblob import TextBlob\n",
    "\n",
    "#BeautifulSoup\n",
    "from bs4 import BeautifulSoup\n",
    "\n",
    "#NLTK\n",
    "import nltk  \n",
    "#nltk.download()\n",
    "from nltk.tokenize import RegexpTokenizer\n",
    "\n",
    "\n",
    "#Sapcy\n",
    "import spacy\n",
    "from spacy.lang.en.stop_words import STOP_WORDS\n",
    "spacy_nlp = spacy.load(\"en_core_web_lg\")\n",
    "\n",
    "# warnings\n",
    "import warnings\n",
    "warnings.simplefilter(action='ignore', category=Warning)"
   ]
  },
  {
   "cell_type": "code",
   "execution_count": 2,
   "metadata": {},
   "outputs": [],
   "source": [
    "df = pd.read_csv('datasets/movie_reviews.csv')"
   ]
  },
  {
   "cell_type": "code",
   "execution_count": 3,
   "metadata": {},
   "outputs": [],
   "source": [
    "df.drop(columns=['Unnamed: 0'], axis=1, inplace=True)"
   ]
  },
  {
   "cell_type": "code",
   "execution_count": 4,
   "metadata": {},
   "outputs": [
    {
     "data": {
      "text/html": [
       "<div>\n",
       "<style scoped>\n",
       "    .dataframe tbody tr th:only-of-type {\n",
       "        vertical-align: middle;\n",
       "    }\n",
       "\n",
       "    .dataframe tbody tr th {\n",
       "        vertical-align: top;\n",
       "    }\n",
       "\n",
       "    .dataframe thead th {\n",
       "        text-align: right;\n",
       "    }\n",
       "</style>\n",
       "<table border=\"1\" class=\"dataframe\">\n",
       "  <thead>\n",
       "    <tr style=\"text-align: right;\">\n",
       "      <th></th>\n",
       "      <th>review</th>\n",
       "      <th>sentiment</th>\n",
       "    </tr>\n",
       "  </thead>\n",
       "  <tbody>\n",
       "    <tr>\n",
       "      <th>0</th>\n",
       "      <td>Hakuna Matata. What a wonderful phrase. Hakuna Matata. Ain't no passing phrase. The Lion King (2019) is the #1 Movie in the World. It brings a whole joy of magic of Disney and wonders, all over again. The Lion King is one of the best instant clas...</td>\n",
       "      <td>positive</td>\n",
       "    </tr>\n",
       "    <tr>\n",
       "      <th>1</th>\n",
       "      <td>Obviously a second attempt at the Hugh Glass story as portrayed by Richard Harris in Man in the Wilderness (1971). But technology has come far in the last 44 years and the cinematography is breathtaking. The technology to re-create the \"big scene...</td>\n",
       "      <td>positive</td>\n",
       "    </tr>\n",
       "    <tr>\n",
       "      <th>2</th>\n",
       "      <td>If some studio head, or person who was ivolved with this film ever reads this, I must apologize for my harsh comments which will ensue. I know that it is very difficult and time consuming to make a movie, whether it's good or bad. It demands time...</td>\n",
       "      <td>negative</td>\n",
       "    </tr>\n",
       "    <tr>\n",
       "      <th>3</th>\n",
       "      <td>Rocknrolla rocked me big time. I fall for everything that has to do with mafias and organized crime. This time, it goes further and displays the underworld of well, everything. Mafias are no longer exclusive for narcotics, it also deals with busi...</td>\n",
       "      <td>positive</td>\n",
       "    </tr>\n",
       "    <tr>\n",
       "      <th>4</th>\n",
       "      <td>Finally, harry potter has a better movie than the book</td>\n",
       "      <td>positive</td>\n",
       "    </tr>\n",
       "  </tbody>\n",
       "</table>\n",
       "</div>"
      ],
      "text/plain": [
       "                                                                                                                                                                                                                                                      review  \\\n",
       "0  Hakuna Matata. What a wonderful phrase. Hakuna Matata. Ain't no passing phrase. The Lion King (2019) is the #1 Movie in the World. It brings a whole joy of magic of Disney and wonders, all over again. The Lion King is one of the best instant clas...   \n",
       "1  Obviously a second attempt at the Hugh Glass story as portrayed by Richard Harris in Man in the Wilderness (1971). But technology has come far in the last 44 years and the cinematography is breathtaking. The technology to re-create the \"big scene...   \n",
       "2  If some studio head, or person who was ivolved with this film ever reads this, I must apologize for my harsh comments which will ensue. I know that it is very difficult and time consuming to make a movie, whether it's good or bad. It demands time...   \n",
       "3  Rocknrolla rocked me big time. I fall for everything that has to do with mafias and organized crime. This time, it goes further and displays the underworld of well, everything. Mafias are no longer exclusive for narcotics, it also deals with busi...   \n",
       "4                                                                                                                                                                                                     Finally, harry potter has a better movie than the book   \n",
       "\n",
       "  sentiment  \n",
       "0  positive  \n",
       "1  positive  \n",
       "2  negative  \n",
       "3  positive  \n",
       "4  positive  "
      ]
     },
     "metadata": {},
     "output_type": "display_data"
    }
   ],
   "source": [
    "with option_context('display.max_colwidth',250):\n",
    "    display(df.head())"
   ]
  },
  {
   "cell_type": "code",
   "execution_count": 5,
   "metadata": {},
   "outputs": [],
   "source": [
    "## functions\n",
    "\n",
    "def count_word(text):\n",
    "    return len(list(text.split(\" \")))\n",
    "\n",
    "def fix_accented_char(x):\n",
    "    x = unicodedata.normalize('NFKD', x).encode('ascii', 'ignore').decode('utf-8','ignore')\n",
    "    return x\n",
    "\n",
    "def lemmat(text):\n",
    "    doc = spacy_nlp(text)\n",
    "    text = \" \".join([token.lemma_ for token in doc])\n",
    "    return text\n",
    "\n",
    "def removeWords(text, listOfWords):\n",
    "    for w in text.split():\n",
    "        if w in listOfWords:\n",
    "            text = text.replace(w,'')\n",
    "    return text"
   ]
  },
  {
   "cell_type": "markdown",
   "metadata": {},
   "source": [
    "### Count Total Words In Review\n",
    "___"
   ]
  },
  {
   "cell_type": "code",
   "execution_count": 6,
   "metadata": {},
   "outputs": [],
   "source": [
    "df['total_words'] = df['review'].apply(lambda x: count_word(x))"
   ]
  },
  {
   "cell_type": "code",
   "execution_count": 7,
   "metadata": {},
   "outputs": [
    {
     "data": {
      "text/html": [
       "<div>\n",
       "<style scoped>\n",
       "    .dataframe tbody tr th:only-of-type {\n",
       "        vertical-align: middle;\n",
       "    }\n",
       "\n",
       "    .dataframe tbody tr th {\n",
       "        vertical-align: top;\n",
       "    }\n",
       "\n",
       "    .dataframe thead th {\n",
       "        text-align: right;\n",
       "    }\n",
       "</style>\n",
       "<table border=\"1\" class=\"dataframe\">\n",
       "  <thead>\n",
       "    <tr style=\"text-align: right;\">\n",
       "      <th></th>\n",
       "      <th>review</th>\n",
       "      <th>sentiment</th>\n",
       "      <th>total_words</th>\n",
       "    </tr>\n",
       "  </thead>\n",
       "  <tbody>\n",
       "    <tr>\n",
       "      <th>0</th>\n",
       "      <td>Hakuna Matata. What a wonderful phrase. Hakuna Matata. Ain't no passing phrase. The Lion King (2019) is the #1 Movie in the World. It brings a whole joy of magic of Disney and wonders, all over again. The Lion King is one of the best instant clas...</td>\n",
       "      <td>positive</td>\n",
       "      <td>114</td>\n",
       "    </tr>\n",
       "    <tr>\n",
       "      <th>1</th>\n",
       "      <td>Obviously a second attempt at the Hugh Glass story as portrayed by Richard Harris in Man in the Wilderness (1971). But technology has come far in the last 44 years and the cinematography is breathtaking. The technology to re-create the \"big scene...</td>\n",
       "      <td>positive</td>\n",
       "      <td>70</td>\n",
       "    </tr>\n",
       "    <tr>\n",
       "      <th>2</th>\n",
       "      <td>If some studio head, or person who was ivolved with this film ever reads this, I must apologize for my harsh comments which will ensue. I know that it is very difficult and time consuming to make a movie, whether it's good or bad. It demands time...</td>\n",
       "      <td>negative</td>\n",
       "      <td>290</td>\n",
       "    </tr>\n",
       "    <tr>\n",
       "      <th>3</th>\n",
       "      <td>Rocknrolla rocked me big time. I fall for everything that has to do with mafias and organized crime. This time, it goes further and displays the underworld of well, everything. Mafias are no longer exclusive for narcotics, it also deals with busi...</td>\n",
       "      <td>positive</td>\n",
       "      <td>131</td>\n",
       "    </tr>\n",
       "    <tr>\n",
       "      <th>4</th>\n",
       "      <td>Finally, harry potter has a better movie than the book</td>\n",
       "      <td>positive</td>\n",
       "      <td>10</td>\n",
       "    </tr>\n",
       "  </tbody>\n",
       "</table>\n",
       "</div>"
      ],
      "text/plain": [
       "                                                                                                                                                                                                                                                      review  \\\n",
       "0  Hakuna Matata. What a wonderful phrase. Hakuna Matata. Ain't no passing phrase. The Lion King (2019) is the #1 Movie in the World. It brings a whole joy of magic of Disney and wonders, all over again. The Lion King is one of the best instant clas...   \n",
       "1  Obviously a second attempt at the Hugh Glass story as portrayed by Richard Harris in Man in the Wilderness (1971). But technology has come far in the last 44 years and the cinematography is breathtaking. The technology to re-create the \"big scene...   \n",
       "2  If some studio head, or person who was ivolved with this film ever reads this, I must apologize for my harsh comments which will ensue. I know that it is very difficult and time consuming to make a movie, whether it's good or bad. It demands time...   \n",
       "3  Rocknrolla rocked me big time. I fall for everything that has to do with mafias and organized crime. This time, it goes further and displays the underworld of well, everything. Mafias are no longer exclusive for narcotics, it also deals with busi...   \n",
       "4                                                                                                                                                                                                     Finally, harry potter has a better movie than the book   \n",
       "\n",
       "  sentiment  total_words  \n",
       "0  positive          114  \n",
       "1  positive           70  \n",
       "2  negative          290  \n",
       "3  positive          131  \n",
       "4  positive           10  "
      ]
     },
     "metadata": {},
     "output_type": "display_data"
    }
   ],
   "source": [
    "with option_context('display.max_colwidth',250):\n",
    "    display(df.head())"
   ]
  },
  {
   "cell_type": "code",
   "execution_count": 8,
   "metadata": {},
   "outputs": [
    {
     "data": {
      "text/html": [
       "<div>\n",
       "<style scoped>\n",
       "    .dataframe tbody tr th:only-of-type {\n",
       "        vertical-align: middle;\n",
       "    }\n",
       "\n",
       "    .dataframe tbody tr th {\n",
       "        vertical-align: top;\n",
       "    }\n",
       "\n",
       "    .dataframe thead th {\n",
       "        text-align: right;\n",
       "    }\n",
       "</style>\n",
       "<table border=\"1\" class=\"dataframe\">\n",
       "  <thead>\n",
       "    <tr style=\"text-align: right;\">\n",
       "      <th></th>\n",
       "      <th>total_words</th>\n",
       "    </tr>\n",
       "  </thead>\n",
       "  <tbody>\n",
       "    <tr>\n",
       "      <th>count</th>\n",
       "      <td>253039.000000</td>\n",
       "    </tr>\n",
       "    <tr>\n",
       "      <th>mean</th>\n",
       "      <td>217.988820</td>\n",
       "    </tr>\n",
       "    <tr>\n",
       "      <th>std</th>\n",
       "      <td>189.752911</td>\n",
       "    </tr>\n",
       "    <tr>\n",
       "      <th>min</th>\n",
       "      <td>1.000000</td>\n",
       "    </tr>\n",
       "    <tr>\n",
       "      <th>25%</th>\n",
       "      <td>107.000000</td>\n",
       "    </tr>\n",
       "    <tr>\n",
       "      <th>50%</th>\n",
       "      <td>159.000000</td>\n",
       "    </tr>\n",
       "    <tr>\n",
       "      <th>75%</th>\n",
       "      <td>270.000000</td>\n",
       "    </tr>\n",
       "    <tr>\n",
       "      <th>max</th>\n",
       "      <td>2654.000000</td>\n",
       "    </tr>\n",
       "  </tbody>\n",
       "</table>\n",
       "</div>"
      ],
      "text/plain": [
       "         total_words\n",
       "count  253039.000000\n",
       "mean      217.988820\n",
       "std       189.752911\n",
       "min         1.000000\n",
       "25%       107.000000\n",
       "50%       159.000000\n",
       "75%       270.000000\n",
       "max      2654.000000"
      ]
     },
     "execution_count": 8,
     "metadata": {},
     "output_type": "execute_result"
    }
   ],
   "source": [
    "df.describe()"
   ]
  },
  {
   "cell_type": "markdown",
   "metadata": {},
   "source": [
    "#### Observation\n",
    "___\n",
    "- Minimun words a review has is just 1 word and max is 2654 which incease the standard deviation and most of the reviews lies around 100 to 300 words."
   ]
  },
  {
   "cell_type": "code",
   "execution_count": 9,
   "metadata": {},
   "outputs": [],
   "source": [
    "max_words_index = df[(df.total_words > 820)].index\n",
    "#df.drop(index=max_words_index, inplace=True)"
   ]
  },
  {
   "cell_type": "code",
   "execution_count": 10,
   "metadata": {},
   "outputs": [],
   "source": [
    "min_words_index = df[(df.total_words < 20)].index\n",
    "#df.drop(index=min_words_index, inplace=True)"
   ]
  },
  {
   "cell_type": "markdown",
   "metadata": {},
   "source": [
    "### Removing Extra White Spaces\n",
    "___"
   ]
  },
  {
   "cell_type": "code",
   "execution_count": 11,
   "metadata": {},
   "outputs": [],
   "source": [
    "df.review = df.review.apply(lambda x: x.strip())\n",
    "df.review = df.review.apply(lambda x: re.sub(' +', ' ', x))"
   ]
  },
  {
   "cell_type": "markdown",
   "metadata": {},
   "source": [
    "### Removing Digits\n",
    "___"
   ]
  },
  {
   "cell_type": "code",
   "execution_count": 12,
   "metadata": {},
   "outputs": [],
   "source": [
    "df.review = df.review.apply(lambda x: ''.join([i for i in x if not i.isdigit()]))"
   ]
  },
  {
   "cell_type": "markdown",
   "metadata": {},
   "source": [
    "### Removing HTML Tags\n",
    "___"
   ]
  },
  {
   "cell_type": "code",
   "execution_count": 13,
   "metadata": {},
   "outputs": [],
   "source": [
    "df.review = df.review.apply(lambda x: BeautifulSoup(x, 'lxml').get_text())"
   ]
  },
  {
   "cell_type": "markdown",
   "metadata": {},
   "source": [
    "### Contraction to Expansion\n",
    "___"
   ]
  },
  {
   "cell_type": "code",
   "execution_count": 14,
   "metadata": {},
   "outputs": [],
   "source": [
    "df.review = df.review.apply(lambda x: contractions.fix(x))"
   ]
  },
  {
   "cell_type": "markdown",
   "metadata": {},
   "source": [
    "### Removing Punctuation and Special Characters\n",
    "___"
   ]
  },
  {
   "cell_type": "code",
   "execution_count": 15,
   "metadata": {},
   "outputs": [],
   "source": [
    "onlyWorkdstokenizer = RegexpTokenizer(r'\\w+')"
   ]
  },
  {
   "cell_type": "code",
   "execution_count": 16,
   "metadata": {},
   "outputs": [],
   "source": [
    "df.review = df.review.apply(lambda x: \" \".join(onlyWorkdstokenizer.tokenize(x)))"
   ]
  },
  {
   "cell_type": "markdown",
   "metadata": {},
   "source": [
    "### Removing Accented Characters\n",
    "___"
   ]
  },
  {
   "cell_type": "code",
   "execution_count": 17,
   "metadata": {},
   "outputs": [],
   "source": [
    "df.review = df.review.apply(lambda x: fix_accented_char(x))"
   ]
  },
  {
   "cell_type": "markdown",
   "metadata": {},
   "source": [
    "### Normalizing Case\n",
    "___"
   ]
  },
  {
   "cell_type": "code",
   "execution_count": 18,
   "metadata": {},
   "outputs": [],
   "source": [
    "df.review = df.review.apply(lambda x: x.lower())"
   ]
  },
  {
   "cell_type": "markdown",
   "metadata": {},
   "source": [
    "### Removing Stop Words"
   ]
  },
  {
   "cell_type": "code",
   "execution_count": 19,
   "metadata": {},
   "outputs": [],
   "source": [
    "df.review = df.review.apply(lambda x: ' '.join([w for w in x.split() if w not in STOP_WORDS]))"
   ]
  },
  {
   "cell_type": "code",
   "execution_count": 20,
   "metadata": {},
   "outputs": [],
   "source": [
    "df['total_words'] = df['review'].apply(lambda x: count_word(x))"
   ]
  },
  {
   "cell_type": "code",
   "execution_count": 21,
   "metadata": {},
   "outputs": [
    {
     "data": {
      "text/html": [
       "<div>\n",
       "<style scoped>\n",
       "    .dataframe tbody tr th:only-of-type {\n",
       "        vertical-align: middle;\n",
       "    }\n",
       "\n",
       "    .dataframe tbody tr th {\n",
       "        vertical-align: top;\n",
       "    }\n",
       "\n",
       "    .dataframe thead th {\n",
       "        text-align: right;\n",
       "    }\n",
       "</style>\n",
       "<table border=\"1\" class=\"dataframe\">\n",
       "  <thead>\n",
       "    <tr style=\"text-align: right;\">\n",
       "      <th></th>\n",
       "      <th>review</th>\n",
       "      <th>sentiment</th>\n",
       "      <th>total_words</th>\n",
       "    </tr>\n",
       "  </thead>\n",
       "  <tbody>\n",
       "    <tr>\n",
       "      <th>0</th>\n",
       "      <td>hakuna matata wonderful phrase hakuna matata passing phrase lion king movie world brings joy magic disney wonders lion king best instant classic disney remakes generation remember king pride rock beautiful live action film like original exact lin...</td>\n",
       "      <td>positive</td>\n",
       "      <td>51</td>\n",
       "    </tr>\n",
       "    <tr>\n",
       "      <th>1</th>\n",
       "      <td>obviously second attempt hugh glass story portrayed richard harris man wilderness technology come far years cinematography breathtaking technology create big scene awe inspiring able watch twice let percolate watch years hold dancing wolves</td>\n",
       "      <td>positive</td>\n",
       "      <td>33</td>\n",
       "    </tr>\n",
       "    <tr>\n",
       "      <th>2</th>\n",
       "      <td>studio head person ivolved film reads apologize harsh comments ensue know difficult time consuming movie good bad demands time money care think combined efforts hundreds individuals despite effort goes production film like films fall aforemention...</td>\n",
       "      <td>negative</td>\n",
       "      <td>110</td>\n",
       "    </tr>\n",
       "    <tr>\n",
       "      <th>3</th>\n",
       "      <td>rocknrolla rocked big time fall mafias organized crime time goes displays underworld mafias longer exclusive narcotics deals business men bets clothing art etc events fast paced told eyes local robbers peculiar group plenty action think best feat...</td>\n",
       "      <td>positive</td>\n",
       "      <td>63</td>\n",
       "    </tr>\n",
       "    <tr>\n",
       "      <th>4</th>\n",
       "      <td>finally harry potter better movie book</td>\n",
       "      <td>positive</td>\n",
       "      <td>6</td>\n",
       "    </tr>\n",
       "  </tbody>\n",
       "</table>\n",
       "</div>"
      ],
      "text/plain": [
       "                                                                                                                                                                                                                                                      review  \\\n",
       "0  hakuna matata wonderful phrase hakuna matata passing phrase lion king movie world brings joy magic disney wonders lion king best instant classic disney remakes generation remember king pride rock beautiful live action film like original exact lin...   \n",
       "1           obviously second attempt hugh glass story portrayed richard harris man wilderness technology come far years cinematography breathtaking technology create big scene awe inspiring able watch twice let percolate watch years hold dancing wolves   \n",
       "2  studio head person ivolved film reads apologize harsh comments ensue know difficult time consuming movie good bad demands time money care think combined efforts hundreds individuals despite effort goes production film like films fall aforemention...   \n",
       "3  rocknrolla rocked big time fall mafias organized crime time goes displays underworld mafias longer exclusive narcotics deals business men bets clothing art etc events fast paced told eyes local robbers peculiar group plenty action think best feat...   \n",
       "4                                                                                                                                                                                                                     finally harry potter better movie book   \n",
       "\n",
       "  sentiment  total_words  \n",
       "0  positive           51  \n",
       "1  positive           33  \n",
       "2  negative          110  \n",
       "3  positive           63  \n",
       "4  positive            6  "
      ]
     },
     "metadata": {},
     "output_type": "display_data"
    }
   ],
   "source": [
    "with option_context('display.max_colwidth',250):\n",
    "    display(df.head())"
   ]
  },
  {
   "cell_type": "markdown",
   "metadata": {},
   "source": [
    "### Lemmatizing\n",
    "___"
   ]
  },
  {
   "cell_type": "code",
   "execution_count": 22,
   "metadata": {},
   "outputs": [],
   "source": [
    "df.review = df.review.apply(lambda x: lemmat(x))"
   ]
  },
  {
   "cell_type": "code",
   "execution_count": 23,
   "metadata": {},
   "outputs": [
    {
     "data": {
      "text/html": [
       "<div>\n",
       "<style scoped>\n",
       "    .dataframe tbody tr th:only-of-type {\n",
       "        vertical-align: middle;\n",
       "    }\n",
       "\n",
       "    .dataframe tbody tr th {\n",
       "        vertical-align: top;\n",
       "    }\n",
       "\n",
       "    .dataframe thead th {\n",
       "        text-align: right;\n",
       "    }\n",
       "</style>\n",
       "<table border=\"1\" class=\"dataframe\">\n",
       "  <thead>\n",
       "    <tr style=\"text-align: right;\">\n",
       "      <th></th>\n",
       "      <th>review</th>\n",
       "      <th>sentiment</th>\n",
       "      <th>total_words</th>\n",
       "    </tr>\n",
       "  </thead>\n",
       "  <tbody>\n",
       "    <tr>\n",
       "      <th>0</th>\n",
       "      <td>hakuna matata wonderful phrase hakuna matata pass phrase lion king movie world bring joy magic disney wonder lion king well instant classic disney remake generation remember king pride rock beautiful live action film like original exact line scen...</td>\n",
       "      <td>positive</td>\n",
       "      <td>51</td>\n",
       "    </tr>\n",
       "    <tr>\n",
       "      <th>1</th>\n",
       "      <td>obviously second attempt hugh glass story portray richard harris man wilderness technology come far year cinematography breathtake technology create big scene awe inspire able watch twice let percolate watch year hold dance wolf</td>\n",
       "      <td>positive</td>\n",
       "      <td>33</td>\n",
       "    </tr>\n",
       "    <tr>\n",
       "      <th>2</th>\n",
       "      <td>studio head person ivolve film read apologize harsh comment ensue know difficult time consume movie good bad demand time money care think combine effort hundred individual despite effort go production film like film fall aforementioned bad catego...</td>\n",
       "      <td>negative</td>\n",
       "      <td>110</td>\n",
       "    </tr>\n",
       "    <tr>\n",
       "      <th>3</th>\n",
       "      <td>rocknrolla rock big time fall mafia organize crime time go display underworld mafia long exclusive narcotic deal business man bet clothing art etc event fast pace tell eye local robber peculiar group plenty action think good feature guy ritchie s...</td>\n",
       "      <td>positive</td>\n",
       "      <td>63</td>\n",
       "    </tr>\n",
       "    <tr>\n",
       "      <th>4</th>\n",
       "      <td>finally harry potter well movie book</td>\n",
       "      <td>positive</td>\n",
       "      <td>6</td>\n",
       "    </tr>\n",
       "  </tbody>\n",
       "</table>\n",
       "</div>"
      ],
      "text/plain": [
       "                                                                                                                                                                                                                                                      review  \\\n",
       "0  hakuna matata wonderful phrase hakuna matata pass phrase lion king movie world bring joy magic disney wonder lion king well instant classic disney remake generation remember king pride rock beautiful live action film like original exact line scen...   \n",
       "1                       obviously second attempt hugh glass story portray richard harris man wilderness technology come far year cinematography breathtake technology create big scene awe inspire able watch twice let percolate watch year hold dance wolf   \n",
       "2  studio head person ivolve film read apologize harsh comment ensue know difficult time consume movie good bad demand time money care think combine effort hundred individual despite effort go production film like film fall aforementioned bad catego...   \n",
       "3  rocknrolla rock big time fall mafia organize crime time go display underworld mafia long exclusive narcotic deal business man bet clothing art etc event fast pace tell eye local robber peculiar group plenty action think good feature guy ritchie s...   \n",
       "4                                                                                                                                                                                                                       finally harry potter well movie book   \n",
       "\n",
       "  sentiment  total_words  \n",
       "0  positive           51  \n",
       "1  positive           33  \n",
       "2  negative          110  \n",
       "3  positive           63  \n",
       "4  positive            6  "
      ]
     },
     "metadata": {},
     "output_type": "display_data"
    }
   ],
   "source": [
    "with option_context('display.max_colwidth',250):\n",
    "    display(df.head())"
   ]
  },
  {
   "cell_type": "markdown",
   "metadata": {},
   "source": [
    "### Removing Empty Reviews\n",
    "___"
   ]
  },
  {
   "cell_type": "code",
   "execution_count": 24,
   "metadata": {},
   "outputs": [],
   "source": [
    "empty = df[df.review == ''].index"
   ]
  },
  {
   "cell_type": "code",
   "execution_count": 25,
   "metadata": {},
   "outputs": [],
   "source": [
    "df.drop(index=empty, axis=0, inplace=True)"
   ]
  },
  {
   "cell_type": "markdown",
   "metadata": {},
   "source": [
    "### Removing Reviews with Less than 5 words. "
   ]
  },
  {
   "cell_type": "code",
   "execution_count": 26,
   "metadata": {},
   "outputs": [],
   "source": [
    "min_words_index = df[(df.total_words < 5)].index\n",
    "df.drop(index=min_words_index, inplace=True)"
   ]
  },
  {
   "cell_type": "code",
   "execution_count": 27,
   "metadata": {},
   "outputs": [],
   "source": [
    "df.drop(columns='total_words',axis=1,inplace=True)"
   ]
  },
  {
   "cell_type": "markdown",
   "metadata": {},
   "source": [
    "### Rare and Common Words"
   ]
  },
  {
   "cell_type": "code",
   "execution_count": 28,
   "metadata": {},
   "outputs": [],
   "source": [
    "text = \" \".join(df.review)\n",
    "text = text.split()\n",
    "freq_word = pd.Series(text).value_counts()"
   ]
  },
  {
   "cell_type": "code",
   "execution_count": 29,
   "metadata": {},
   "outputs": [],
   "source": [
    "top_freq = list(freq_word.sort_values(ascending=False)[:100].to_dict().keys())"
   ]
  },
  {
   "cell_type": "code",
   "execution_count": 30,
   "metadata": {},
   "outputs": [],
   "source": [
    "bottom_freq = list(freq_word.sort_values()[:160000].to_dict().keys())"
   ]
  },
  {
   "cell_type": "code",
   "execution_count": null,
   "metadata": {},
   "outputs": [],
   "source": []
  },
  {
   "cell_type": "code",
   "execution_count": 31,
   "metadata": {},
   "outputs": [],
   "source": [
    "df['total_words'] = df['review'].apply(lambda x: count_word(x))"
   ]
  },
  {
   "cell_type": "code",
   "execution_count": 32,
   "metadata": {},
   "outputs": [
    {
     "data": {
      "text/html": [
       "<div>\n",
       "<style scoped>\n",
       "    .dataframe tbody tr th:only-of-type {\n",
       "        vertical-align: middle;\n",
       "    }\n",
       "\n",
       "    .dataframe tbody tr th {\n",
       "        vertical-align: top;\n",
       "    }\n",
       "\n",
       "    .dataframe thead th {\n",
       "        text-align: right;\n",
       "    }\n",
       "</style>\n",
       "<table border=\"1\" class=\"dataframe\">\n",
       "  <thead>\n",
       "    <tr style=\"text-align: right;\">\n",
       "      <th></th>\n",
       "      <th>review</th>\n",
       "      <th>sentiment</th>\n",
       "      <th>total_words</th>\n",
       "    </tr>\n",
       "  </thead>\n",
       "  <tbody>\n",
       "    <tr>\n",
       "      <th>0</th>\n",
       "      <td>hakuna matata wonderful phrase hakuna matata pass phrase lion king movie world bring joy magic disney wonder lion king well instant classic disney remake generation remember king pride rock beautiful live action film like original exact line scen...</td>\n",
       "      <td>positive</td>\n",
       "      <td>51</td>\n",
       "    </tr>\n",
       "    <tr>\n",
       "      <th>1</th>\n",
       "      <td>obviously second attempt hugh glass story portray richard harris man wilderness technology come far year cinematography breathtake technology create big scene awe inspire able watch twice let percolate watch year hold dance wolf</td>\n",
       "      <td>positive</td>\n",
       "      <td>33</td>\n",
       "    </tr>\n",
       "    <tr>\n",
       "      <th>2</th>\n",
       "      <td>studio head person ivolve film read apologize harsh comment ensue know difficult time consume movie good bad demand time money care think combine effort hundred individual despite effort go production film like film fall aforementioned bad catego...</td>\n",
       "      <td>negative</td>\n",
       "      <td>110</td>\n",
       "    </tr>\n",
       "    <tr>\n",
       "      <th>3</th>\n",
       "      <td>rocknrolla rock big time fall mafia organize crime time go display underworld mafia long exclusive narcotic deal business man bet clothing art etc event fast pace tell eye local robber peculiar group plenty action think good feature guy ritchie s...</td>\n",
       "      <td>positive</td>\n",
       "      <td>63</td>\n",
       "    </tr>\n",
       "    <tr>\n",
       "      <th>4</th>\n",
       "      <td>finally harry potter well movie book</td>\n",
       "      <td>positive</td>\n",
       "      <td>6</td>\n",
       "    </tr>\n",
       "  </tbody>\n",
       "</table>\n",
       "</div>"
      ],
      "text/plain": [
       "                                                                                                                                                                                                                                                      review  \\\n",
       "0  hakuna matata wonderful phrase hakuna matata pass phrase lion king movie world bring joy magic disney wonder lion king well instant classic disney remake generation remember king pride rock beautiful live action film like original exact line scen...   \n",
       "1                       obviously second attempt hugh glass story portray richard harris man wilderness technology come far year cinematography breathtake technology create big scene awe inspire able watch twice let percolate watch year hold dance wolf   \n",
       "2  studio head person ivolve film read apologize harsh comment ensue know difficult time consume movie good bad demand time money care think combine effort hundred individual despite effort go production film like film fall aforementioned bad catego...   \n",
       "3  rocknrolla rock big time fall mafia organize crime time go display underworld mafia long exclusive narcotic deal business man bet clothing art etc event fast pace tell eye local robber peculiar group plenty action think good feature guy ritchie s...   \n",
       "4                                                                                                                                                                                                                       finally harry potter well movie book   \n",
       "\n",
       "  sentiment  total_words  \n",
       "0  positive           51  \n",
       "1  positive           33  \n",
       "2  negative          110  \n",
       "3  positive           63  \n",
       "4  positive            6  "
      ]
     },
     "metadata": {},
     "output_type": "display_data"
    }
   ],
   "source": [
    "with option_context('display.max_colwidth',250):\n",
    "    display(df.head())"
   ]
  },
  {
   "cell_type": "markdown",
   "metadata": {},
   "source": [
    "### Renaming Labels\n",
    "___"
   ]
  },
  {
   "cell_type": "code",
   "execution_count": 33,
   "metadata": {},
   "outputs": [],
   "source": [
    "df.sentiment = [1 if sentiment =='positive' else 0 for sentiment in df.sentiment]"
   ]
  },
  {
   "cell_type": "code",
   "execution_count": null,
   "metadata": {},
   "outputs": [],
   "source": []
  },
  {
   "cell_type": "code",
   "execution_count": 34,
   "metadata": {},
   "outputs": [],
   "source": [
    "df.shape\n",
    "df.dropna(subset=['review'],axis=0,inplace=True)"
   ]
  },
  {
   "cell_type": "code",
   "execution_count": null,
   "metadata": {},
   "outputs": [],
   "source": []
  },
  {
   "cell_type": "code",
   "execution_count": 35,
   "metadata": {},
   "outputs": [],
   "source": [
    "df.to_csv('datasets/filtered.csv',index=False)"
   ]
  },
  {
   "cell_type": "code",
   "execution_count": null,
   "metadata": {},
   "outputs": [],
   "source": []
  },
  {
   "cell_type": "markdown",
   "metadata": {},
   "source": [
    "## Next Step\n",
    "\n",
    "In the next step we will visualize the text reviews\n",
    "\n",
    "The above step can be found in `data-viz.ipynb` file."
   ]
  }
 ],
 "metadata": {
  "kernelspec": {
   "display_name": "Python 3",
   "language": "python",
   "name": "python3"
  },
  "language_info": {
   "codemirror_mode": {
    "name": "ipython",
    "version": 3
   },
   "file_extension": ".py",
   "mimetype": "text/x-python",
   "name": "python",
   "nbconvert_exporter": "python",
   "pygments_lexer": "ipython3",
   "version": "3.8.5"
  }
 },
 "nbformat": 4,
 "nbformat_minor": 4
}
